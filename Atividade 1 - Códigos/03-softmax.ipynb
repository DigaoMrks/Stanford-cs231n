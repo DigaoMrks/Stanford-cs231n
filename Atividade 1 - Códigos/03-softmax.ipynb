{
 "cells": [
  {
   "cell_type": "markdown",
   "metadata": {
    "colab_type": "text",
    "id": "g6ykrgUBiMGv"
   },
   "source": [
    "# Atividade 03: Classificador Softmax\n",
    "\n",
    "*Complete e entregue toda essa atividade (incluindo suas saídas e qualquer código adicional que você desenvolva) juntamente com a submissão de seu trabalho prático. Maiores detalhes podem ser vistos na página da disciplina.*\n",
    "\n",
    "Esta atividade é análoga a feita anteriormente sobre SVM. Você irá:\n",
    "\n",
    "- implementar uma **função de perda** (**loss function**) de forma completamente paralela para o classificador Softmax\n",
    "- implementar a expressão para seu **gradiente analítico** de forma completamente paralela\n",
    "- **verificar sua implementação** utilizando gradiente numérico\n",
    "- usar um conjunto de validação para **ajustar a taxa de aprendizado e regularização**\n",
    "- **otimizar** a função de perda com **SGD**\n",
    "- **visualizar** os pesos finais que foram obtidos\n"
   ]
  },
  {
   "cell_type": "code",
   "execution_count": 6,
   "metadata": {
    "colab": {},
    "colab_type": "code",
    "id": "vGFQFzPniMGw"
   },
   "outputs": [
    {
     "name": "stdout",
     "output_type": "stream",
     "text": [
      "The autoreload extension is already loaded. To reload it, use:\n",
      "  %reload_ext autoreload\n",
      "Okay!\n"
     ]
    }
   ],
   "source": [
    "import random\n",
    "import numpy as np\n",
    "from dl.data_utils import load_CIFAR10\n",
    "import matplotlib.pyplot as plt\n",
    "\n",
    "from __future__ import print_function\n",
    "\n",
    "%matplotlib inline\n",
    "plt.rcParams['figure.figsize'] = (10.0, 8.0) \n",
    "plt.rcParams['image.interpolation'] = 'nearest'\n",
    "plt.rcParams['image.cmap'] = 'gray'\n",
    "\n",
    "%load_ext autoreload\n",
    "%autoreload 2\n",
    "\n",
    "print('Okay!')"
   ]
  },
  {
   "cell_type": "code",
   "execution_count": 7,
   "metadata": {
    "colab": {},
    "colab_type": "code",
    "id": "c7z7o09ciMGz"
   },
   "outputs": [
    {
     "name": "stdout",
     "output_type": "stream",
     "text": [
      "Train data shape:  (49000, 3073)\n",
      "Train labels shape:  (49000,)\n",
      "Validation data shape:  (1000, 3073)\n",
      "Validation labels shape:  (1000,)\n",
      "Test data shape:  (1000, 3073)\n",
      "Test labels shape:  (1000,)\n",
      "dev data shape:  (500, 3073)\n",
      "dev labels shape:  (500,)\n",
      "Okay!\n"
     ]
    }
   ],
   "source": [
    "def get_CIFAR10_data(num_training=49000, num_validation=1000, num_test=1000, num_dev=500):\n",
    "    \"\"\"\n",
    "    Carrega CIFAR-10 dataset a partit do disco e realiza preprocessamento para preparar\n",
    "    os dados para o classificador linear. Estes são os mesmos passos usados para o modelo\n",
    "    SVM, porém condensado em uma única função.  \n",
    "    \"\"\"\n",
    "    # Carregga os dados CIFAR-10 brutos\n",
    "    cifar10_dir = 'dl/datasets/cifar-10-batches-py'\n",
    "    X_train, y_train, X_test, y_test = load_CIFAR10(cifar10_dir)\n",
    "    \n",
    "    # Subdivide os dados em conjuntos\n",
    "    mask = list(range(num_training, num_training + num_validation))\n",
    "    X_val = X_train[mask]\n",
    "    y_val = y_train[mask]\n",
    "    mask = list(range(num_training))\n",
    "    X_train = X_train[mask]\n",
    "    y_train = y_train[mask]\n",
    "    mask = list(range(num_test))\n",
    "    X_test = X_test[mask]\n",
    "    y_test = y_test[mask]\n",
    "    mask = np.random.choice(num_training, num_dev, replace=False)\n",
    "    X_dev = X_train[mask]\n",
    "    y_dev = y_train[mask]\n",
    "    \n",
    "    # Preprocessamento: redimensiona as imagens de matrizes para vetores\n",
    "    X_train = np.reshape(X_train, (X_train.shape[0], -1))\n",
    "    X_val = np.reshape(X_val, (X_val.shape[0], -1))\n",
    "    X_test = np.reshape(X_test, (X_test.shape[0], -1))\n",
    "    X_dev = np.reshape(X_dev, (X_dev.shape[0], -1))\n",
    "    \n",
    "    # Normaliza os dados: subtrai a imagem média\n",
    "    mean_image = np.mean(X_train, axis = 0)\n",
    "    X_train -= mean_image\n",
    "    X_val -= mean_image\n",
    "    X_test -= mean_image\n",
    "    X_dev -= mean_image\n",
    "    \n",
    "    # Acrescenta uma dimensão (viés/bias) e transforma em colunas\n",
    "    X_train = np.hstack([X_train, np.ones((X_train.shape[0], 1))])\n",
    "    X_val = np.hstack([X_val, np.ones((X_val.shape[0], 1))])\n",
    "    X_test = np.hstack([X_test, np.ones((X_test.shape[0], 1))])\n",
    "    X_dev = np.hstack([X_dev, np.ones((X_dev.shape[0], 1))])\n",
    "    \n",
    "    return X_train, y_train, X_val, y_val, X_test, y_test, X_dev, y_dev\n",
    "\n",
    "\n",
    "# Usar a função definida acmina para obter os dados.\n",
    "X_train, y_train, X_val, y_val, X_test, y_test, X_dev, y_dev = get_CIFAR10_data()\n",
    "print('Train data shape: ', X_train.shape)\n",
    "print('Train labels shape: ', y_train.shape)\n",
    "print('Validation data shape: ', X_val.shape)\n",
    "print('Validation labels shape: ', y_val.shape)\n",
    "print('Test data shape: ', X_test.shape)\n",
    "print('Test labels shape: ', y_test.shape)\n",
    "print('dev data shape: ', X_dev.shape)\n",
    "print('dev labels shape: ', y_dev.shape)\n",
    "\n",
    "print('Okay!')"
   ]
  },
  {
   "cell_type": "markdown",
   "metadata": {
    "colab_type": "text",
    "id": "Y5FN03fwiMG3"
   },
   "source": [
    "## Classificador Softmax\n",
    "\n",
    "Seu código para está seção será todo escrito dentro do arquivo `dl/classifiers/softmax.py`.\n"
   ]
  },
  {
   "cell_type": "code",
   "execution_count": 8,
   "metadata": {
    "colab": {},
    "colab_type": "code",
    "id": "fhQMgSPWiMG3"
   },
   "outputs": [
    {
     "name": "stdout",
     "output_type": "stream",
     "text": [
      "loss: 2.319804\n",
      "sanity check: 2.302585\n",
      "Okay!\n"
     ]
    }
   ],
   "source": [
    "# Primeiramente, implemente a versão ingênua da função de perda softmax usando laços aninhados.\n",
    "# Abra o arquivo dl/classifiers/softmax.py e implemente a função softmax_loss_naive.\n",
    "\n",
    "from dl.classifiers.softmax import softmax_loss_naive\n",
    "import time\n",
    "\n",
    "# Produz uma matrix pesos aleatórios e a usa para calcular a perda. \n",
    "W = np.random.randn(3073, 10) * 0.0001\n",
    "loss, grad = softmax_loss_naive(W, X_dev, y_dev, 0.0)\n",
    "\n",
    "# Apenas como uma verificação, o valor de perda deve ser algo próximo a -log(0.1).\n",
    "print('loss: %f' % loss)\n",
    "print('sanity check: %f' % (-np.log(0.1)))\n",
    "\n",
    "print('Okay!')"
   ]
  },
  {
   "cell_type": "markdown",
   "metadata": {
    "colab_type": "text",
    "id": "EDEcBA9HiMG5"
   },
   "source": [
    "## Pergunta 01:\n",
    "Por que se deve esperar que a perda calculada seja próxima de -log(0.1)? Explique brevemente.\n"
   ]
  },
  {
   "cell_type": "markdown",
   "metadata": {
    "colab_type": "text",
    "id": "8UdQMkMOiMG6"
   },
   "source": [
    "**Sua Resposta:** *Pois como o W é aleatório, e sua probabilidade é de 1/10, o valor é 10% (0.1)*"
   ]
  },
  {
   "cell_type": "code",
   "execution_count": 9,
   "metadata": {
    "colab": {},
    "colab_type": "code",
    "id": "qNHTRtmZiMG6"
   },
   "outputs": [
    {
     "name": "stdout",
     "output_type": "stream",
     "text": [
      "numerical: 0.506040 analytic: 0.506040, relative error: 1.872356e-09\n",
      "numerical: -4.855755 analytic: -4.855756, relative error: 1.473418e-08\n",
      "numerical: -0.600113 analytic: -0.600113, relative error: 5.381051e-09\n",
      "numerical: -0.871733 analytic: -0.871733, relative error: 1.842650e-08\n",
      "numerical: 1.909631 analytic: 1.909631, relative error: 2.660218e-08\n",
      "numerical: -2.038483 analytic: -2.038483, relative error: 4.373347e-08\n",
      "numerical: -1.360065 analytic: -1.360065, relative error: 6.311857e-08\n",
      "numerical: 3.023074 analytic: 3.023074, relative error: 1.310259e-08\n",
      "numerical: -1.094234 analytic: -1.094234, relative error: 3.624755e-08\n",
      "numerical: 1.155066 analytic: 1.155066, relative error: 3.672406e-08\n",
      "numerical: -2.525703 analytic: -2.525703, relative error: 3.909059e-08\n",
      "numerical: -1.235736 analytic: -1.235736, relative error: 2.113284e-08\n",
      "numerical: 1.798328 analytic: 1.798327, relative error: 3.627317e-08\n",
      "numerical: -1.620961 analytic: -1.620961, relative error: 9.297531e-10\n",
      "numerical: 2.709871 analytic: 2.709871, relative error: 2.286845e-08\n",
      "numerical: -0.078640 analytic: -0.078640, relative error: 1.417349e-07\n",
      "numerical: 1.582100 analytic: 1.582100, relative error: 1.823098e-08\n",
      "numerical: -2.555849 analytic: -2.555850, relative error: 6.215271e-09\n",
      "numerical: 1.040267 analytic: 1.040267, relative error: 1.021206e-08\n",
      "numerical: 1.449088 analytic: 1.449088, relative error: 5.103152e-08\n",
      "Okay!\n"
     ]
    }
   ],
   "source": [
    "# Complete a implementação da função softmax_loss_naive, acrescentando uma\n",
    "# versão (ingênua) de cálculo do gradiente que utilize laços aninhados. \n",
    "loss, grad = softmax_loss_naive(W, X_dev, y_dev, 0.0)\n",
    "\n",
    "# Como foi feito para o SVM, use a estimativa numérica do gradiente como\n",
    "# ferramenta de verificação e depuração. \n",
    "# O valor do gradiente numérico deve ser próximo do obtido analiticamente.\n",
    "from dl.gradient_check import grad_check_sparse\n",
    "f = lambda w: softmax_loss_naive(w, X_dev, y_dev, 0.0)[0]\n",
    "grad_numerical = grad_check_sparse(f, W, grad, 10)\n",
    "\n",
    "# Similar ao SVM, faça outra verificação utilização um valor de regularização não nulo\n",
    "loss, grad = softmax_loss_naive(W, X_dev, y_dev, 5e1)\n",
    "f = lambda w: softmax_loss_naive(w, X_dev, y_dev, 5e1)[0]\n",
    "grad_numerical = grad_check_sparse(f, W, grad, 10)\n",
    "\n",
    "print('Okay!')"
   ]
  },
  {
   "cell_type": "code",
   "execution_count": 10,
   "metadata": {
    "colab": {},
    "colab_type": "code",
    "id": "7e3yMBrHiMG8"
   },
   "outputs": [
    {
     "name": "stdout",
     "output_type": "stream",
     "text": [
      "naive loss: 2.319804e+00 computed in 0.158620s\n",
      "vectorized loss: 2.319804e+00 computed in 0.003905s\n",
      "Loss difference: 0.000000\n",
      "Gradient difference: 0.000000\n",
      "Okay!\n"
     ]
    }
   ],
   "source": [
    "# Agora que se tem uma versão básica de para cálculo da função de perda e de seu gradiente,\n",
    "# você deve implementar uma versão vetorial/paralela na função softmax_loss_vectorized.\n",
    "\n",
    "# Novamente, os valores devem coincidir porém a versão vetorial deve ser mais rápida.\n",
    "tic = time.time()\n",
    "loss_naive, grad_naive = softmax_loss_naive(W, X_dev, y_dev, 0.000005)\n",
    "toc = time.time()\n",
    "print('naive loss: %e computed in %fs' % (loss_naive, toc - tic))\n",
    "\n",
    "from dl.classifiers.softmax import softmax_loss_vectorized\n",
    "tic = time.time()\n",
    "loss_vectorized, grad_vectorized = softmax_loss_vectorized(W, X_dev, y_dev, 0.000005)\n",
    "toc = time.time()\n",
    "print('vectorized loss: %e computed in %fs' % (loss_vectorized, toc - tic))\n",
    "\n",
    "# Como para o SVM, utiliza-se a norma de Frobenius para comparar as duas versões\n",
    "# de gradiente.\n",
    "grad_difference = np.linalg.norm(grad_naive - grad_vectorized, ord='fro')\n",
    "print('Loss difference: %f' % np.abs(loss_naive - loss_vectorized))\n",
    "print('Gradient difference: %f' % grad_difference)\n",
    "\n",
    "print('Okay!')"
   ]
  },
  {
   "cell_type": "code",
   "execution_count": 13,
   "metadata": {
    "colab": {},
    "colab_type": "code",
    "id": "cvMt7h_tiMG_"
   },
   "outputs": [
    {
     "name": "stdout",
     "output_type": "stream",
     "text": [
      "lr 1.000000e-08 reg 1.000000e+04 train accuracy: 0.187612 val accuracy: 0.178000\n",
      "lr 1.000000e-08 reg 2.000000e+04 train accuracy: 0.180020 val accuracy: 0.185000\n",
      "lr 1.000000e-08 reg 3.000000e+04 train accuracy: 0.187551 val accuracy: 0.210000\n",
      "lr 1.000000e-08 reg 4.000000e+04 train accuracy: 0.190714 val accuracy: 0.170000\n",
      "lr 1.000000e-08 reg 5.000000e+04 train accuracy: 0.192857 val accuracy: 0.187000\n",
      "lr 1.000000e-08 reg 6.000000e+04 train accuracy: 0.210102 val accuracy: 0.185000\n",
      "lr 1.000000e-08 reg 7.000000e+04 train accuracy: 0.217755 val accuracy: 0.228000\n",
      "lr 1.000000e-08 reg 8.000000e+04 train accuracy: 0.213122 val accuracy: 0.220000\n",
      "lr 1.000000e-08 reg 1.000000e+05 train accuracy: 0.255449 val accuracy: 0.274000\n",
      "lr 1.000000e-07 reg 1.000000e+04 train accuracy: 0.355694 val accuracy: 0.392000\n",
      "lr 1.000000e-07 reg 2.000000e+04 train accuracy: 0.359020 val accuracy: 0.373000\n",
      "lr 1.000000e-07 reg 3.000000e+04 train accuracy: 0.347408 val accuracy: 0.358000\n",
      "lr 1.000000e-07 reg 4.000000e+04 train accuracy: 0.336408 val accuracy: 0.342000\n",
      "lr 1.000000e-07 reg 5.000000e+04 train accuracy: 0.332184 val accuracy: 0.347000\n",
      "lr 1.000000e-07 reg 6.000000e+04 train accuracy: 0.319306 val accuracy: 0.332000\n",
      "lr 1.000000e-07 reg 7.000000e+04 train accuracy: 0.322673 val accuracy: 0.331000\n",
      "lr 1.000000e-07 reg 8.000000e+04 train accuracy: 0.311673 val accuracy: 0.331000\n",
      "lr 1.000000e-07 reg 1.000000e+05 train accuracy: 0.300714 val accuracy: 0.318000\n",
      "lr 2.000000e-07 reg 1.000000e+04 train accuracy: 0.374571 val accuracy: 0.392000\n",
      "lr 2.000000e-07 reg 2.000000e+04 train accuracy: 0.355939 val accuracy: 0.376000\n",
      "lr 2.000000e-07 reg 3.000000e+04 train accuracy: 0.348204 val accuracy: 0.362000\n",
      "lr 2.000000e-07 reg 4.000000e+04 train accuracy: 0.327082 val accuracy: 0.345000\n",
      "lr 2.000000e-07 reg 5.000000e+04 train accuracy: 0.332694 val accuracy: 0.350000\n",
      "lr 2.000000e-07 reg 6.000000e+04 train accuracy: 0.320265 val accuracy: 0.322000\n",
      "lr 2.000000e-07 reg 7.000000e+04 train accuracy: 0.313592 val accuracy: 0.328000\n",
      "lr 2.000000e-07 reg 8.000000e+04 train accuracy: 0.310490 val accuracy: 0.335000\n",
      "lr 2.000000e-07 reg 1.000000e+05 train accuracy: 0.317429 val accuracy: 0.329000\n",
      "best validation accuracy achieved during cross-validation: 0.392000\n",
      "Okay!\n"
     ]
    }
   ],
   "source": [
    "# Utilize o conjunto de validação para ajustar os hiperparâmetros (taxa de \n",
    "# aprendizado e regularização). Você deve experimentar diferentes intervalos\n",
    "# para ambos. Se você proceder corretamente deve ser capaz de obter uma acurácia\n",
    "# acima de 0.35 no conjunto de validação.\n",
    "\n",
    "from dl.classifiers import Softmax\n",
    "results = {}\n",
    "best_val = -1\n",
    "best_softmax = None\n",
    "learning_rates = [1e-8, 1e-7, 2e-7]\n",
    "regularization_strengths = [1e4, 2e4, 3e4, 4e4, 5e4, 6e4, 7e4, 8e4, 1e5]\n",
    "\n",
    "################################################################################\n",
    "# TODO:                                                                        #\n",
    "# Escrever o código que escolhe os melhores hiperparâmetros usando o conjunto  #\n",
    "# de validação. Deve ser muito similar ao código feito para o SVM.             #\n",
    "# Além disso, deve-se armazenar a melhor acurácia de validação em best_val     #\n",
    "# e o objeto Softmax que obteve esse resultado em best_softmax.                #\n",
    "################################################################################\n",
    "\n",
    "iters = 2000\n",
    "for lr in learning_rates:\n",
    "    for rs in regularization_strengths:\n",
    "        softmax = Softmax()\n",
    "        softmax.train(X_train, y_train, learning_rate=lr, reg=rs, num_iters=iters)\n",
    "        \n",
    "        y_train_pred = softmax.predict(X_train)\n",
    "        acc_train = np.mean(y_train == y_train_pred)\n",
    "        y_val_pred = softmax.predict(X_val)\n",
    "        acc_val = np.mean(y_val == y_val_pred)\n",
    "        \n",
    "        results[(lr, rs)] = (acc_train, acc_val)\n",
    "        \n",
    "        if best_val < acc_val:\n",
    "            best_val = acc_val\n",
    "            best_softmax = softmax\n",
    "\n",
    "################################################################################\n",
    "#                              FIM DE SEU CÓDIGO                               #\n",
    "################################################################################\n",
    "    \n",
    "# Exibe os resultados.\n",
    "for lr, reg in sorted(results):\n",
    "    train_accuracy, val_accuracy = results[(lr, reg)]\n",
    "    print('lr %e reg %e train accuracy: %f val accuracy: %f' % (\n",
    "                lr, reg, train_accuracy, val_accuracy))\n",
    "    \n",
    "print('best validation accuracy achieved during cross-validation: %f' % best_val)\n",
    "\n",
    "print('Okay!')"
   ]
  },
  {
   "cell_type": "code",
   "execution_count": 14,
   "metadata": {
    "colab": {},
    "colab_type": "code",
    "id": "r0ztyIE5iMHB"
   },
   "outputs": [
    {
     "name": "stdout",
     "output_type": "stream",
     "text": [
      "softmax on raw pixels final test set accuracy: 0.354000\n",
      "Okay!\n"
     ]
    }
   ],
   "source": [
    "# Avalia o melhor modelo Softmax no conjunto de teste\n",
    "y_test_pred = best_softmax.predict(X_test)\n",
    "test_accuracy = np.mean(y_test == y_test_pred)\n",
    "print('softmax on raw pixels final test set accuracy: %f' % (test_accuracy, ))\n",
    "\n",
    "print('Okay!')"
   ]
  },
  {
   "cell_type": "code",
   "execution_count": 16,
   "metadata": {
    "colab": {},
    "colab_type": "code",
    "id": "yDjnsL5AiMHE"
   },
   "outputs": [
    {
     "name": "stdout",
     "output_type": "stream",
     "text": [
      "Okay!\n"
     ]
    },
    {
     "data": {
      "image/png": "[encoded data removed]",
      "text/plain": [
       "<Figure size 720x576 with 10 Axes>"
      ]
     },
     "metadata": {
      "needs_background": "light"
     },
     "output_type": "display_data"
    }
   ],
   "source": [
    "# Visualiza os pesos obtidos para cada classe.\n",
    "w = best_softmax.W[:-1,:] # remove o viés/bias\n",
    "w = w.reshape(32, 32, 3, 10)\n",
    "\n",
    "w_min, w_max = np.min(w), np.max(w)\n",
    "\n",
    "classes = ['plane', 'car', 'bird', 'cat', 'deer', 'dog', 'frog', 'horse', 'ship', 'truck']\n",
    "for i in range(10):\n",
    "    plt.subplot(2, 5, i + 1)\n",
    "    \n",
    "    # Redimensiona os pesos para o intervalo entre 0 e 255\n",
    "    wimg = 255.0 * (w[:, :, :, i].squeeze() - w_min) / (w_max - w_min)\n",
    "    plt.imshow(wimg.astype('uint8'))\n",
    "    plt.axis('off')\n",
    "    plt.title(classes[i])\n",
    "    \n",
    "print('Okay!')"
   ]
  },
  {
   "cell_type": "code",
   "execution_count": null,
   "metadata": {},
   "outputs": [],
   "source": []
  }
 ],
 "metadata": {
  "colab": {
   "collapsed_sections": [],
   "name": "03-softmax.ipynb",
   "provenance": []
  },
  "kernelspec": {
   "display_name": "Python 3",
   "language": "python",
   "name": "python3"
  },
  "language_info": {
   "codemirror_mode": {
    "name": "ipython",
    "version": 3
   },
   "file_extension": ".py",
   "mimetype": "text/x-python",
   "name": "python",
   "nbconvert_exporter": "python",
   "pygments_lexer": "ipython3",
   "version": "3.6.5"
  }
 },
 "nbformat": 4,
 "nbformat_minor": 1
}
